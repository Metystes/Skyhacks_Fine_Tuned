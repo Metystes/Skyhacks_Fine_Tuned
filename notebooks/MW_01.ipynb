{
  "nbformat": 4,
  "nbformat_minor": 0,
  "metadata": {
    "colab": {
      "name": "MW_01.ipynb",
      "provenance": [],
      "collapsed_sections": [],
      "toc_visible": true,
      "machine_shape": "hm"
    },
    "kernelspec": {
      "name": "python3",
      "display_name": "Python 3"
    },
    "accelerator": "GPU"
  },
  "cells": [
    {
      "cell_type": "markdown",
      "metadata": {
        "id": "u226AGg-U3B7",
        "colab_type": "text"
      },
      "source": [
        "#Image Classification - Task 2"
      ]
    },
    {
      "cell_type": "code",
      "metadata": {
        "id": "ufIHUL3JVmb-",
        "colab_type": "code",
        "outputId": "c1acc0bc-6fcb-4d08-f96c-186759f57dc4",
        "colab": {
          "base_uri": "https://localhost:8080/",
          "height": 122
        }
      },
      "source": [
        "from google.colab import drive\n",
        "drive.mount('/content/gdrive', force_remount=True)"
      ],
      "execution_count": 0,
      "outputs": [
        {
          "output_type": "stream",
          "text": [
            "Go to this URL in a browser: https://accounts.google.com/o/oauth2/auth?client_id=947318989803-6bn6qk8qdgf4n4g3pfee6491hc0brc4i.apps.googleusercontent.com&redirect_uri=urn%3Aietf%3Awg%3Aoauth%3A2.0%3Aoob&scope=email%20https%3A%2F%2Fwww.googleapis.com%2Fauth%2Fdocs.test%20https%3A%2F%2Fwww.googleapis.com%2Fauth%2Fdrive%20https%3A%2F%2Fwww.googleapis.com%2Fauth%2Fdrive.photos.readonly%20https%3A%2F%2Fwww.googleapis.com%2Fauth%2Fpeopleapi.readonly&response_type=code\n",
            "\n",
            "Enter your authorization code:\n",
            "··········\n",
            "Mounted at /content/gdrive\n"
          ],
          "name": "stdout"
        }
      ]
    },
    {
      "cell_type": "code",
      "metadata": {
        "id": "Gdnupt8AcYKB",
        "colab_type": "code",
        "outputId": "060857c8-8544-4b77-f2c6-ca61620137ab",
        "colab": {
          "base_uri": "https://localhost:8080/",
          "height": 51
        }
      },
      "source": [
        "%tensorflow_version 2.x\n",
        "import tensorflow as tf\n",
        "import os\n",
        "from os import path\n",
        "\n",
        "\n",
        "print(tf.__version__)\n",
        "\n",
        "%reload_ext autoreload\n",
        "%autoreload 2\n",
        "%matplotlib inline\n",
        "\n",
        "from fastai.vision import *\n",
        "from fastai.vision.transform import *\n",
        "from fastai.metrics import error_rate, accuracy\n",
        "\n",
        "import warnings\n",
        "warnings.filterwarnings(\"ignore\", category=UserWarning, module=\"torch.nn.functional\")\n",
        "\n",
        "import pandas as pd"
      ],
      "execution_count": 0,
      "outputs": [
        {
          "output_type": "stream",
          "text": [
            "TensorFlow 2.x selected.\n",
            "2.0.0\n"
          ],
          "name": "stdout"
        }
      ]
    },
    {
      "cell_type": "code",
      "metadata": {
        "id": "AmfJV3LIfrYJ",
        "colab_type": "code",
        "colab": {}
      },
      "source": [
        "bs = 128\n",
        "np.random.seed(5432)\n",
        "\n",
        "root_path = F'/content/gdrive/My Drive/SkyHack 2019 - Team'\n",
        "img_path = path.join(root_path, 'data', 'Task 2 data')"
      ],
      "execution_count": 0,
      "outputs": []
    },
    {
      "cell_type": "code",
      "metadata": {
        "id": "LlviS6wLVZRV",
        "colab_type": "code",
        "colab": {}
      },
      "source": [
        "def save_data(data, path, name):\n",
        "  with open(os.path.join(path, name+\".pickle\"), 'wb') as handle:\n",
        "    pickle.dump(data, handle, protocol=pickle.HIGHEST_PROTOCOL)\n",
        "  \n",
        "def read_data(path, name):\n",
        "  with open(os.path.join(path, name), 'rb') as handle:\n",
        "    data = pickle.load(handle)\n",
        "  return data"
      ],
      "execution_count": 0,
      "outputs": []
    },
    {
      "cell_type": "markdown",
      "metadata": {
        "id": "FbjQK1XcAEGS",
        "colab_type": "text"
      },
      "source": [
        "**Model 2**: Acc: 90%, resnet34, standard transoforms and normlized."
      ]
    },
    {
      "cell_type": "code",
      "metadata": {
        "id": "862P0ii4asRb",
        "colab_type": "code",
        "colab": {}
      },
      "source": [
        "tfms = get_transforms()\n",
        "data = ImageDataBunch.from_folder(img_path, train='raw_data', valid_pct=0.2,size=500, test='validation', ds_tfms=tfms).normalize()"
      ],
      "execution_count": 0,
      "outputs": []
    },
    {
      "cell_type": "code",
      "metadata": {
        "id": "ihSSy60QfofV",
        "colab_type": "code",
        "outputId": "ca66be4b-3146-44b6-dde4-8cd9a7bf3fb5",
        "colab": {
          "base_uri": "https://localhost:8080/",
          "height": 85
        }
      },
      "source": [
        "# Walidacja\n",
        "print(len(data.train_ds))\n",
        "print(len(data.valid_ds))\n",
        "print(len(data.test_ds))\n",
        "\n",
        "print(data.classes)"
      ],
      "execution_count": 0,
      "outputs": [
        {
          "output_type": "stream",
          "text": [
            "1787\n",
            "446\n",
            "552\n",
            "['bathroom', 'bedroom', 'dinning_room', 'house', 'kitchen', 'living_room']\n"
          ],
          "name": "stdout"
        }
      ]
    },
    {
      "cell_type": "code",
      "metadata": {
        "id": "ZEHg7di8QB3V",
        "colab_type": "code",
        "outputId": "fc56933e-902e-4279-82ea-356b1a11476a",
        "colab": {
          "base_uri": "https://localhost:8080/",
          "height": 568
        }
      },
      "source": [
        "learn = cnn_learner(data, models.resnet34, metrics=accuracy)\n",
        "learn.fit_one_cycle(15)\n",
        "learn.save('task_2_model_2')\n",
        "save_data(data, img_path, \"task_2_model_2\")"
      ],
      "execution_count": 0,
      "outputs": [
        {
          "output_type": "stream",
          "text": [
            "Downloading: \"https://download.pytorch.org/models/resnet34-333f7ec4.pth\" to /root/.cache/torch/checkpoints/resnet34-333f7ec4.pth\n",
            "100%|██████████| 83.3M/83.3M [00:03<00:00, 28.7MB/s]\n"
          ],
          "name": "stderr"
        },
        {
          "output_type": "display_data",
          "data": {
            "text/html": [
              "<table border=\"1\" class=\"dataframe\">\n",
              "  <thead>\n",
              "    <tr style=\"text-align: left;\">\n",
              "      <th>epoch</th>\n",
              "      <th>train_loss</th>\n",
              "      <th>valid_loss</th>\n",
              "      <th>accuracy</th>\n",
              "      <th>time</th>\n",
              "    </tr>\n",
              "  </thead>\n",
              "  <tbody>\n",
              "    <tr>\n",
              "      <td>0</td>\n",
              "      <td>1.953569</td>\n",
              "      <td>0.849875</td>\n",
              "      <td>0.665919</td>\n",
              "      <td>03:57</td>\n",
              "    </tr>\n",
              "    <tr>\n",
              "      <td>1</td>\n",
              "      <td>1.267318</td>\n",
              "      <td>0.537849</td>\n",
              "      <td>0.813901</td>\n",
              "      <td>02:39</td>\n",
              "    </tr>\n",
              "    <tr>\n",
              "      <td>2</td>\n",
              "      <td>0.892364</td>\n",
              "      <td>0.486211</td>\n",
              "      <td>0.845291</td>\n",
              "      <td>02:41</td>\n",
              "    </tr>\n",
              "    <tr>\n",
              "      <td>3</td>\n",
              "      <td>0.672833</td>\n",
              "      <td>0.489774</td>\n",
              "      <td>0.834081</td>\n",
              "      <td>02:39</td>\n",
              "    </tr>\n",
              "    <tr>\n",
              "      <td>4</td>\n",
              "      <td>0.543153</td>\n",
              "      <td>0.470916</td>\n",
              "      <td>0.845291</td>\n",
              "      <td>02:39</td>\n",
              "    </tr>\n",
              "    <tr>\n",
              "      <td>5</td>\n",
              "      <td>0.436073</td>\n",
              "      <td>0.476857</td>\n",
              "      <td>0.852018</td>\n",
              "      <td>02:40</td>\n",
              "    </tr>\n",
              "    <tr>\n",
              "      <td>6</td>\n",
              "      <td>0.360885</td>\n",
              "      <td>0.455804</td>\n",
              "      <td>0.869955</td>\n",
              "      <td>02:39</td>\n",
              "    </tr>\n",
              "    <tr>\n",
              "      <td>7</td>\n",
              "      <td>0.306880</td>\n",
              "      <td>0.448592</td>\n",
              "      <td>0.858744</td>\n",
              "      <td>02:48</td>\n",
              "    </tr>\n",
              "    <tr>\n",
              "      <td>8</td>\n",
              "      <td>0.258736</td>\n",
              "      <td>0.430063</td>\n",
              "      <td>0.854260</td>\n",
              "      <td>02:40</td>\n",
              "    </tr>\n",
              "    <tr>\n",
              "      <td>9</td>\n",
              "      <td>0.217477</td>\n",
              "      <td>0.420294</td>\n",
              "      <td>0.867713</td>\n",
              "      <td>02:42</td>\n",
              "    </tr>\n",
              "    <tr>\n",
              "      <td>10</td>\n",
              "      <td>0.210124</td>\n",
              "      <td>0.392082</td>\n",
              "      <td>0.874439</td>\n",
              "      <td>02:40</td>\n",
              "    </tr>\n",
              "    <tr>\n",
              "      <td>11</td>\n",
              "      <td>0.197138</td>\n",
              "      <td>0.384520</td>\n",
              "      <td>0.863229</td>\n",
              "      <td>02:41</td>\n",
              "    </tr>\n",
              "    <tr>\n",
              "      <td>12</td>\n",
              "      <td>0.169948</td>\n",
              "      <td>0.389773</td>\n",
              "      <td>0.867713</td>\n",
              "      <td>02:43</td>\n",
              "    </tr>\n",
              "    <tr>\n",
              "      <td>13</td>\n",
              "      <td>0.159814</td>\n",
              "      <td>0.379797</td>\n",
              "      <td>0.867713</td>\n",
              "      <td>02:39</td>\n",
              "    </tr>\n",
              "    <tr>\n",
              "      <td>14</td>\n",
              "      <td>0.149407</td>\n",
              "      <td>0.387402</td>\n",
              "      <td>0.874439</td>\n",
              "      <td>02:39</td>\n",
              "    </tr>\n",
              "  </tbody>\n",
              "</table>"
            ],
            "text/plain": [
              "<IPython.core.display.HTML object>"
            ]
          },
          "metadata": {
            "tags": []
          }
        }
      ]
    },
    {
      "cell_type": "markdown",
      "metadata": {
        "id": "q0q1Ux9Wf5aB",
        "colab_type": "text"
      },
      "source": [
        "**Model 3**: "
      ]
    },
    {
      "cell_type": "code",
      "metadata": {
        "colab_type": "code",
        "id": "j0BZisxYh_-A",
        "colab": {}
      },
      "source": [
        "tfms = get_transforms(max_lighting=0.2, p_lighting=0.5)\n",
        "data = ImageDataBunch.from_folder(img_path, train='raw_data', valid_pct=0.2, size = 500,test='validation', ds_tfms=tfms).normalize()"
      ],
      "execution_count": 0,
      "outputs": []
    },
    {
      "cell_type": "code",
      "metadata": {
        "colab_type": "code",
        "id": "UgoVvuEsh_-F",
        "outputId": "94d21992-42cf-4169-c2db-2a7a408143ec",
        "colab": {
          "base_uri": "https://localhost:8080/",
          "height": 68
        }
      },
      "source": [
        "# Walidacja\n",
        "print(len(data.train_ds))\n",
        "print(len(data.valid_ds))\n",
        "print(len(data.test_ds))"
      ],
      "execution_count": 0,
      "outputs": [
        {
          "output_type": "stream",
          "text": [
            "1787\n",
            "446\n",
            "552\n"
          ],
          "name": "stdout"
        }
      ]
    },
    {
      "cell_type": "code",
      "metadata": {
        "colab_type": "code",
        "id": "VVNK0bO8h_-I",
        "outputId": "ace9a038-6e42-4a60-cf4d-2eda868978de",
        "colab": {
          "base_uri": "https://localhost:8080/",
          "height": 568
        }
      },
      "source": [
        "learn = cnn_learner(data, models.resnet34, metrics=accuracy)\n",
        "learn.fit_one_cycle(15)\n",
        "learn.save('model-3')"
      ],
      "execution_count": 0,
      "outputs": [
        {
          "output_type": "stream",
          "text": [
            "Downloading: \"https://download.pytorch.org/models/resnet34-333f7ec4.pth\" to /root/.cache/torch/checkpoints/resnet34-333f7ec4.pth\n",
            "100%|██████████| 83.3M/83.3M [00:01<00:00, 73.7MB/s]\n"
          ],
          "name": "stderr"
        },
        {
          "output_type": "display_data",
          "data": {
            "text/html": [
              "<table border=\"1\" class=\"dataframe\">\n",
              "  <thead>\n",
              "    <tr style=\"text-align: left;\">\n",
              "      <th>epoch</th>\n",
              "      <th>train_loss</th>\n",
              "      <th>valid_loss</th>\n",
              "      <th>accuracy</th>\n",
              "      <th>time</th>\n",
              "    </tr>\n",
              "  </thead>\n",
              "  <tbody>\n",
              "    <tr>\n",
              "      <td>0</td>\n",
              "      <td>2.273694</td>\n",
              "      <td>0.839344</td>\n",
              "      <td>0.683856</td>\n",
              "      <td>04:10</td>\n",
              "    </tr>\n",
              "    <tr>\n",
              "      <td>1</td>\n",
              "      <td>1.367212</td>\n",
              "      <td>0.553464</td>\n",
              "      <td>0.807175</td>\n",
              "      <td>02:52</td>\n",
              "    </tr>\n",
              "    <tr>\n",
              "      <td>2</td>\n",
              "      <td>0.956279</td>\n",
              "      <td>0.538377</td>\n",
              "      <td>0.825112</td>\n",
              "      <td>02:45</td>\n",
              "    </tr>\n",
              "    <tr>\n",
              "      <td>3</td>\n",
              "      <td>0.711829</td>\n",
              "      <td>0.510387</td>\n",
              "      <td>0.840807</td>\n",
              "      <td>02:43</td>\n",
              "    </tr>\n",
              "    <tr>\n",
              "      <td>4</td>\n",
              "      <td>0.555237</td>\n",
              "      <td>0.506783</td>\n",
              "      <td>0.843049</td>\n",
              "      <td>02:49</td>\n",
              "    </tr>\n",
              "    <tr>\n",
              "      <td>5</td>\n",
              "      <td>0.451582</td>\n",
              "      <td>0.466289</td>\n",
              "      <td>0.840807</td>\n",
              "      <td>02:47</td>\n",
              "    </tr>\n",
              "    <tr>\n",
              "      <td>6</td>\n",
              "      <td>0.373156</td>\n",
              "      <td>0.459488</td>\n",
              "      <td>0.843049</td>\n",
              "      <td>02:48</td>\n",
              "    </tr>\n",
              "    <tr>\n",
              "      <td>7</td>\n",
              "      <td>0.316182</td>\n",
              "      <td>0.430398</td>\n",
              "      <td>0.852018</td>\n",
              "      <td>02:49</td>\n",
              "    </tr>\n",
              "    <tr>\n",
              "      <td>8</td>\n",
              "      <td>0.268798</td>\n",
              "      <td>0.444291</td>\n",
              "      <td>0.867713</td>\n",
              "      <td>02:48</td>\n",
              "    </tr>\n",
              "    <tr>\n",
              "      <td>9</td>\n",
              "      <td>0.228411</td>\n",
              "      <td>0.424031</td>\n",
              "      <td>0.872197</td>\n",
              "      <td>02:44</td>\n",
              "    </tr>\n",
              "    <tr>\n",
              "      <td>10</td>\n",
              "      <td>0.201716</td>\n",
              "      <td>0.425851</td>\n",
              "      <td>0.849776</td>\n",
              "      <td>02:52</td>\n",
              "    </tr>\n",
              "    <tr>\n",
              "      <td>11</td>\n",
              "      <td>0.167716</td>\n",
              "      <td>0.419503</td>\n",
              "      <td>0.867713</td>\n",
              "      <td>02:48</td>\n",
              "    </tr>\n",
              "    <tr>\n",
              "      <td>12</td>\n",
              "      <td>0.151613</td>\n",
              "      <td>0.417841</td>\n",
              "      <td>0.872197</td>\n",
              "      <td>02:48</td>\n",
              "    </tr>\n",
              "    <tr>\n",
              "      <td>13</td>\n",
              "      <td>0.148723</td>\n",
              "      <td>0.407131</td>\n",
              "      <td>0.876682</td>\n",
              "      <td>02:53</td>\n",
              "    </tr>\n",
              "    <tr>\n",
              "      <td>14</td>\n",
              "      <td>0.140795</td>\n",
              "      <td>0.408448</td>\n",
              "      <td>0.874439</td>\n",
              "      <td>02:50</td>\n",
              "    </tr>\n",
              "  </tbody>\n",
              "</table>"
            ],
            "text/plain": [
              "<IPython.core.display.HTML object>"
            ]
          },
          "metadata": {
            "tags": []
          }
        }
      ]
    },
    {
      "cell_type": "markdown",
      "metadata": {
        "id": "dLLVab1K1Cey",
        "colab_type": "text"
      },
      "source": [
        "**Model 4**"
      ]
    },
    {
      "cell_type": "code",
      "metadata": {
        "colab_type": "code",
        "id": "KUHY7U-d1BCR",
        "colab": {}
      },
      "source": [
        "tfms = get_transforms()\n",
        "data = ImageDataBunch.from_folder(path.join(root_path, \"Bart\"), train='raw_data', valid_pct=0.2, size = 500,test='validation', ds_tfms=tfms).normalize()"
      ],
      "execution_count": 0,
      "outputs": []
    },
    {
      "cell_type": "code",
      "metadata": {
        "colab_type": "code",
        "outputId": "b12c78ad-528b-4ab0-86ee-172457ad04c0",
        "id": "MEWVbh0F1BCX",
        "colab": {
          "base_uri": "https://localhost:8080/",
          "height": 68
        }
      },
      "source": [
        "# Walidacja\n",
        "print(len(data.train_ds))\n",
        "print(len(data.valid_ds))\n",
        "print(len(data.test_ds))"
      ],
      "execution_count": 0,
      "outputs": [
        {
          "output_type": "stream",
          "text": [
            "3697\n",
            "924\n",
            "552\n"
          ],
          "name": "stdout"
        }
      ]
    },
    {
      "cell_type": "code",
      "metadata": {
        "colab_type": "code",
        "id": "julX_p9H1BCb",
        "outputId": "5a3edbc0-2a1b-4232-d4f9-cc1d0a51175c",
        "colab": {
          "base_uri": "https://localhost:8080/",
          "height": 514
        }
      },
      "source": [
        "learn = cnn_learner(data, models.resnet34, metrics=accuracy)\n",
        "learn.fit_one_cycle(15)\n",
        "learn.save('model-4')"
      ],
      "execution_count": 0,
      "outputs": [
        {
          "output_type": "display_data",
          "data": {
            "text/html": [
              "<table border=\"1\" class=\"dataframe\">\n",
              "  <thead>\n",
              "    <tr style=\"text-align: left;\">\n",
              "      <th>epoch</th>\n",
              "      <th>train_loss</th>\n",
              "      <th>valid_loss</th>\n",
              "      <th>accuracy</th>\n",
              "      <th>time</th>\n",
              "    </tr>\n",
              "  </thead>\n",
              "  <tbody>\n",
              "    <tr>\n",
              "      <td>0</td>\n",
              "      <td>1.654639</td>\n",
              "      <td>0.700694</td>\n",
              "      <td>0.744589</td>\n",
              "      <td>07:01</td>\n",
              "    </tr>\n",
              "    <tr>\n",
              "      <td>1</td>\n",
              "      <td>1.048968</td>\n",
              "      <td>0.513515</td>\n",
              "      <td>0.820346</td>\n",
              "      <td>03:57</td>\n",
              "    </tr>\n",
              "    <tr>\n",
              "      <td>2</td>\n",
              "      <td>0.765992</td>\n",
              "      <td>0.463869</td>\n",
              "      <td>0.843074</td>\n",
              "      <td>03:50</td>\n",
              "    </tr>\n",
              "    <tr>\n",
              "      <td>3</td>\n",
              "      <td>0.632773</td>\n",
              "      <td>0.469675</td>\n",
              "      <td>0.843074</td>\n",
              "      <td>03:54</td>\n",
              "    </tr>\n",
              "    <tr>\n",
              "      <td>4</td>\n",
              "      <td>0.548793</td>\n",
              "      <td>0.416822</td>\n",
              "      <td>0.848485</td>\n",
              "      <td>03:54</td>\n",
              "    </tr>\n",
              "    <tr>\n",
              "      <td>5</td>\n",
              "      <td>0.482749</td>\n",
              "      <td>0.410672</td>\n",
              "      <td>0.858225</td>\n",
              "      <td>03:56</td>\n",
              "    </tr>\n",
              "    <tr>\n",
              "      <td>6</td>\n",
              "      <td>0.421388</td>\n",
              "      <td>0.395217</td>\n",
              "      <td>0.862554</td>\n",
              "      <td>03:56</td>\n",
              "    </tr>\n",
              "    <tr>\n",
              "      <td>7</td>\n",
              "      <td>0.365151</td>\n",
              "      <td>0.387331</td>\n",
              "      <td>0.862554</td>\n",
              "      <td>03:57</td>\n",
              "    </tr>\n",
              "    <tr>\n",
              "      <td>8</td>\n",
              "      <td>0.331875</td>\n",
              "      <td>0.376755</td>\n",
              "      <td>0.862554</td>\n",
              "      <td>04:01</td>\n",
              "    </tr>\n",
              "    <tr>\n",
              "      <td>9</td>\n",
              "      <td>0.294905</td>\n",
              "      <td>0.365763</td>\n",
              "      <td>0.874459</td>\n",
              "      <td>03:59</td>\n",
              "    </tr>\n",
              "    <tr>\n",
              "      <td>10</td>\n",
              "      <td>0.272947</td>\n",
              "      <td>0.347432</td>\n",
              "      <td>0.891775</td>\n",
              "      <td>04:02</td>\n",
              "    </tr>\n",
              "    <tr>\n",
              "      <td>11</td>\n",
              "      <td>0.252044</td>\n",
              "      <td>0.344136</td>\n",
              "      <td>0.877706</td>\n",
              "      <td>03:55</td>\n",
              "    </tr>\n",
              "    <tr>\n",
              "      <td>12</td>\n",
              "      <td>0.235325</td>\n",
              "      <td>0.338460</td>\n",
              "      <td>0.882035</td>\n",
              "      <td>03:57</td>\n",
              "    </tr>\n",
              "    <tr>\n",
              "      <td>13</td>\n",
              "      <td>0.207911</td>\n",
              "      <td>0.342808</td>\n",
              "      <td>0.884199</td>\n",
              "      <td>03:54</td>\n",
              "    </tr>\n",
              "    <tr>\n",
              "      <td>14</td>\n",
              "      <td>0.209606</td>\n",
              "      <td>0.341755</td>\n",
              "      <td>0.885281</td>\n",
              "      <td>03:54</td>\n",
              "    </tr>\n",
              "  </tbody>\n",
              "</table>"
            ],
            "text/plain": [
              "<IPython.core.display.HTML object>"
            ]
          },
          "metadata": {
            "tags": []
          }
        }
      ]
    },
    {
      "cell_type": "code",
      "metadata": {
        "id": "q6WK6VFIpZOl",
        "colab_type": "code",
        "colab": {}
      },
      "source": [
        "import pickle\n",
        "\n",
        "with open('dane_model_4.pickle', 'wb') as handle:\n",
        "    pickle.dump(data, handle, protocol=pickle.HIGHEST_PROTOCOL)"
      ],
      "execution_count": 0,
      "outputs": []
    },
    {
      "cell_type": "code",
      "metadata": {
        "id": "IgZs5mCqp2ep",
        "colab_type": "code",
        "outputId": "a4f510b4-5af0-4674-8119-4c2906ac362d",
        "colab": {
          "base_uri": "https://localhost:8080/",
          "height": 34
        }
      },
      "source": [
        ""
      ],
      "execution_count": 0,
      "outputs": [
        {
          "output_type": "stream",
          "text": [
            "dane_model_4.pickle  gdrive  sample_data\n"
          ],
          "name": "stdout"
        }
      ]
    },
    {
      "cell_type": "code",
      "metadata": {
        "id": "A304nFZzO8HP",
        "colab_type": "code",
        "colab": {}
      },
      "source": [
        "learn.find_lr()\n",
        "learn.recorder.plot()\n",
        "\n",
        "low_lr = 0\n",
        "high_lr = 0"
      ],
      "execution_count": 0,
      "outputs": []
    },
    {
      "cell_type": "code",
      "metadata": {
        "id": "tIgJD0QjPGjZ",
        "colab_type": "code",
        "colab": {}
      },
      "source": [
        "learn.unfreez()\n",
        "learn.fit_one_cycle(2, max_lr=(low_lr,high_lr))"
      ],
      "execution_count": 0,
      "outputs": []
    },
    {
      "cell_type": "markdown",
      "metadata": {
        "id": "IRuL2KDvgMg7",
        "colab_type": "text"
      },
      "source": [
        "### Prediction"
      ]
    },
    {
      "cell_type": "code",
      "metadata": {
        "id": "wX0QODnXoFbz",
        "colab_type": "code",
        "colab": {}
      },
      "source": [
        "learn = cnn_learner(data, models.resnet34, metrics=error_rate)\n",
        "learn = learn.load(\"model-2\")"
      ],
      "execution_count": 0,
      "outputs": []
    },
    {
      "cell_type": "code",
      "metadata": {
        "id": "4S5KqqLXRX4G",
        "colab_type": "code",
        "colab": {}
      },
      "source": [
        "interp = ClassificationInterpretation.from_learner(learn)\n",
        "interp.plot_top_losses(9, heatmap=False)\n",
        "#interp.plot_confusion_matrix()"
      ],
      "execution_count": 0,
      "outputs": []
    },
    {
      "cell_type": "code",
      "metadata": {
        "id": "gyBxZa6xokim",
        "colab_type": "code",
        "colab": {}
      },
      "source": [
        "img = data.test_ds[20][0]\n",
        "img"
      ],
      "execution_count": 0,
      "outputs": []
    },
    {
      "cell_type": "code",
      "metadata": {
        "id": "dvOjpW0LgBb9",
        "colab_type": "code",
        "colab": {}
      },
      "source": [
        "learn.predict(img)"
      ],
      "execution_count": 0,
      "outputs": []
    }
  ]
}